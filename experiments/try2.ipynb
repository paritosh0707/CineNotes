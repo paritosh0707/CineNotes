{
 "cells": [
  {
   "cell_type": "code",
   "execution_count": 1,
   "metadata": {},
   "outputs": [
    {
     "name": "stdout",
     "output_type": "stream",
     "text": [
      "Package            Version     Editable project location\n",
      "------------------ ----------- ----------------------------------------------------------\n",
      "aiohappyeyeballs   2.4.4\n",
      "aiohttp            3.11.11\n",
      "aiosignal          1.3.2\n",
      "appnope            0.1.4\n",
      "asttokens          3.0.0\n",
      "asyncio            3.4.3\n",
      "attrs              24.3.0\n",
      "certifi            2024.12.14\n",
      "charset-normalizer 3.4.1\n",
      "cine_notes         0.0.0       /Users/prakharagarwal/Documents/Python Codes/CineNotes/src\n",
      "comm               0.2.2\n",
      "debugpy            1.8.11\n",
      "decorator          5.1.1\n",
      "exceptiongroup     1.2.2\n",
      "executing          2.1.0\n",
      "from-root          1.3.0\n",
      "frozenlist         1.5.0\n",
      "idna               3.10\n",
      "imageio            2.36.1\n",
      "imageio-ffmpeg     0.5.1\n",
      "importlib_metadata 8.5.0\n",
      "ipykernel          6.29.5\n",
      "ipython            8.31.0\n",
      "jedi               0.19.2\n",
      "jupyter_client     8.6.3\n",
      "jupyter_core       5.7.2\n",
      "matplotlib-inline  0.1.7\n",
      "moviepy            2.1.1\n",
      "multidict          6.1.0\n",
      "nest_asyncio       1.6.0\n",
      "numpy              2.2.1\n",
      "packaging          24.2\n",
      "parso              0.8.4\n",
      "pexpect            4.9.0\n",
      "pickleshare        0.7.5\n",
      "pillow             10.4.0\n",
      "pip                24.2\n",
      "platformdirs       4.3.6\n",
      "proglog            0.1.10\n",
      "prompt_toolkit     3.0.48\n",
      "propcache          0.2.1\n",
      "psutil             5.9.0\n",
      "ptyprocess         0.7.0\n",
      "pure_eval          0.2.3\n",
      "pydub              0.25.1\n",
      "Pygments           2.19.1\n",
      "python-dateutil    2.9.0.post0\n",
      "python-dotenv      1.0.1\n",
      "pyzmq              26.2.0\n",
      "requests           2.32.3\n",
      "setuptools         75.1.0\n",
      "six                1.17.0\n",
      "stack_data         0.6.3\n",
      "tornado            6.4.2\n",
      "tqdm               4.67.1\n",
      "traitlets          5.14.3\n",
      "typing_extensions  4.12.2\n",
      "urllib3            2.3.0\n",
      "wcwidth            0.2.13\n",
      "wheel              0.44.0\n",
      "yarl               1.18.3\n",
      "zipp               3.21.0\n"
     ]
    }
   ],
   "source": [
    "!pip list"
   ]
  },
  {
   "cell_type": "code",
   "execution_count": 2,
   "metadata": {},
   "outputs": [
    {
     "name": "stdout",
     "output_type": "stream",
     "text": [
      "Requirement already satisfied: pydub in /opt/anaconda3/envs/langgraph/lib/python3.11/site-packages (0.25.1)\n",
      "Note: you may need to restart the kernel to use updated packages.\n"
     ]
    }
   ],
   "source": [
    "%pip install pydub "
   ]
  },
  {
   "cell_type": "code",
   "execution_count": null,
   "metadata": {},
   "outputs": [],
   "source": [
    "import pydub"
   ]
  },
  {
   "cell_type": "code",
   "execution_count": 6,
   "metadata": {},
   "outputs": [],
   "source": [
    "from cine_notes.components.audio_transcript import HuggingFaceWhisperAPI"
   ]
  },
  {
   "cell_type": "code",
   "execution_count": 8,
   "metadata": {},
   "outputs": [
    {
     "name": "stdout",
     "output_type": "stream",
     "text": [
      "Exported /Users/prakharagarwal/Documents/Python Codes/CineNotes/my_videos/Deep Learning for Computer Vision  CampusX Deep Learning Course  DLCV/audio/parts/chunk0.mp3\n",
      "Exported /Users/prakharagarwal/Documents/Python Codes/CineNotes/my_videos/Deep Learning for Computer Vision  CampusX Deep Learning Course  DLCV/audio/parts/chunk1.mp3\n",
      "Exported /Users/prakharagarwal/Documents/Python Codes/CineNotes/my_videos/Deep Learning for Computer Vision  CampusX Deep Learning Course  DLCV/audio/parts/chunk2.mp3\n"
     ]
    }
   ],
   "source": [
    "from pydub import AudioSegment\n",
    "from pydub.utils import make_chunks\n",
    "\n",
    "audio_file = r\"/Users/prakharagarwal/Documents/Python Codes/CineNotes/my_videos/Deep Learning for Computer Vision  CampusX Deep Learning Course  DLCV/audio/audio.mp3\"\n",
    "audio_path = r\"/Users/prakharagarwal/Documents/Python Codes/CineNotes/my_videos/Deep Learning for Computer Vision  CampusX Deep Learning Course  DLCV/audio/parts\"\n",
    "# Load the audio file\n",
    "audio = AudioSegment.from_file(audio_file)\n",
    "\n",
    "# Define chunk length in milliseconds (e.g., 10 seconds)\n",
    "chunk_length_ms = 300000\n",
    "\n",
    "# Split the audio into chunks\n",
    "chunks = make_chunks(audio, chunk_length_ms)\n",
    "chunk_list = []\n",
    "# Export chunks as separate files\n",
    "for i, chunk in enumerate(chunks):\n",
    "    chunk_name = f\"{audio_path}/chunk{i}.mp3\"\n",
    "    chunk_list.append(chunk_name)\n",
    "    chunk.export(chunk_name, format=\"mp3\")\n",
    "    print(f\"Exported {chunk_name}\")"
   ]
  },
  {
   "cell_type": "code",
   "execution_count": 9,
   "metadata": {},
   "outputs": [
    {
     "data": {
      "text/plain": [
       "bytes"
      ]
     },
     "execution_count": 9,
     "metadata": {},
     "output_type": "execute_result"
    }
   ],
   "source": [
    "type(chunks[0].raw_data)"
   ]
  },
  {
   "cell_type": "code",
   "execution_count": 10,
   "metadata": {},
   "outputs": [
    {
     "data": {
      "text/plain": [
       "pydub.audio_segment.AudioSegment"
      ]
     },
     "execution_count": 10,
     "metadata": {},
     "output_type": "execute_result"
    }
   ],
   "source": [
    "type(chunk)"
   ]
  },
  {
   "cell_type": "code",
   "execution_count": 12,
   "metadata": {},
   "outputs": [
    {
     "ename": "CineNotesException",
     "evalue": "Error occurred in python script: [/Users/prakharagarwal/Documents/Python Codes/CineNotes/src/cine_notes/components/audio_transcript.py] at line number: [117] with error: [Failed to query Hugging Face API\nDetailed Exception:\nThis event loop is already running]",
     "output_type": "error",
     "traceback": [
      "\u001b[0;31m---------------------------------------------------------------------------\u001b[0m",
      "\u001b[0;31mRuntimeError\u001b[0m                              Traceback (most recent call last)",
      "File \u001b[0;32m~/Documents/Python Codes/CineNotes/src/cine_notes/components/audio_transcript.py:117\u001b[0m, in \u001b[0;36mHuggingFaceWhisperAPI.query\u001b[0;34m(self, filename, **kwargs)\u001b[0m\n\u001b[1;32m    116\u001b[0m task \u001b[38;5;241m=\u001b[39m loop\u001b[38;5;241m.\u001b[39mcreate_task(\u001b[38;5;28mself\u001b[39m\u001b[38;5;241m.\u001b[39m_excecute_api_requests(chunks_dir_list))\n\u001b[0;32m--> 117\u001b[0m responses \u001b[38;5;241m=\u001b[39m \u001b[43mloop\u001b[49m\u001b[38;5;241;43m.\u001b[39;49m\u001b[43mrun_until_complete\u001b[49m\u001b[43m(\u001b[49m\u001b[43mtask\u001b[49m\u001b[43m)\u001b[49m\n\u001b[1;32m    119\u001b[0m \u001b[38;5;66;03m# Combine responses\u001b[39;00m\n",
      "File \u001b[0;32m/opt/anaconda3/envs/langgraph/lib/python3.11/asyncio/base_events.py:630\u001b[0m, in \u001b[0;36mBaseEventLoop.run_until_complete\u001b[0;34m(self, future)\u001b[0m\n\u001b[1;32m    629\u001b[0m \u001b[38;5;28mself\u001b[39m\u001b[38;5;241m.\u001b[39m_check_closed()\n\u001b[0;32m--> 630\u001b[0m \u001b[38;5;28;43mself\u001b[39;49m\u001b[38;5;241;43m.\u001b[39;49m\u001b[43m_check_running\u001b[49m\u001b[43m(\u001b[49m\u001b[43m)\u001b[49m\n\u001b[1;32m    632\u001b[0m new_task \u001b[38;5;241m=\u001b[39m \u001b[38;5;129;01mnot\u001b[39;00m futures\u001b[38;5;241m.\u001b[39misfuture(future)\n",
      "File \u001b[0;32m/opt/anaconda3/envs/langgraph/lib/python3.11/asyncio/base_events.py:589\u001b[0m, in \u001b[0;36mBaseEventLoop._check_running\u001b[0;34m(self)\u001b[0m\n\u001b[1;32m    588\u001b[0m \u001b[38;5;28;01mif\u001b[39;00m \u001b[38;5;28mself\u001b[39m\u001b[38;5;241m.\u001b[39mis_running():\n\u001b[0;32m--> 589\u001b[0m     \u001b[38;5;28;01mraise\u001b[39;00m \u001b[38;5;167;01mRuntimeError\u001b[39;00m(\u001b[38;5;124m'\u001b[39m\u001b[38;5;124mThis event loop is already running\u001b[39m\u001b[38;5;124m'\u001b[39m)\n\u001b[1;32m    590\u001b[0m \u001b[38;5;28;01mif\u001b[39;00m events\u001b[38;5;241m.\u001b[39m_get_running_loop() \u001b[38;5;129;01mis\u001b[39;00m \u001b[38;5;129;01mnot\u001b[39;00m \u001b[38;5;28;01mNone\u001b[39;00m:\n",
      "\u001b[0;31mRuntimeError\u001b[0m: This event loop is already running",
      "\nDuring handling of the above exception, another exception occurred:\n",
      "\u001b[0;31mCineNotesException\u001b[0m                        Traceback (most recent call last)",
      "Cell \u001b[0;32mIn[12], line 3\u001b[0m\n\u001b[1;32m      1\u001b[0m whisper \u001b[38;5;241m=\u001b[39m HuggingFaceWhisperAPI()\n\u001b[1;32m      2\u001b[0m audio_file \u001b[38;5;241m=\u001b[39m \u001b[38;5;124mr\u001b[39m\u001b[38;5;124m\"\u001b[39m\u001b[38;5;124m/Users/prakharagarwal/Documents/Python Codes/CineNotes/my_videos/Deep Learning for Computer Vision  CampusX Deep Learning Course  DLCV/audio/parts/chunk0.mp3\u001b[39m\u001b[38;5;124m\"\u001b[39m\n\u001b[0;32m----> 3\u001b[0m transcribe \u001b[38;5;241m=\u001b[39m \u001b[43mwhisper\u001b[49m\u001b[38;5;241;43m.\u001b[39;49m\u001b[43mquery\u001b[49m\u001b[43m(\u001b[49m\u001b[43maudio_file\u001b[49m\u001b[43m)\u001b[49m\n",
      "File \u001b[0;32m~/Documents/Python Codes/CineNotes/src/cine_notes/components/audio_transcript.py:137\u001b[0m, in \u001b[0;36mHuggingFaceWhisperAPI.query\u001b[0;34m(self, filename, **kwargs)\u001b[0m\n\u001b[1;32m    135\u001b[0m \u001b[38;5;28;01mexcept\u001b[39;00m \u001b[38;5;167;01mException\u001b[39;00m \u001b[38;5;28;01mas\u001b[39;00m e:\n\u001b[1;32m    136\u001b[0m     logging\u001b[38;5;241m.\u001b[39merror(\u001b[38;5;124mf\u001b[39m\u001b[38;5;124m\"\u001b[39m\u001b[38;5;124mError querying Hugging Face API: \u001b[39m\u001b[38;5;132;01m{\u001b[39;00me\u001b[38;5;132;01m}\u001b[39;00m\u001b[38;5;124m\"\u001b[39m)\n\u001b[0;32m--> 137\u001b[0m     \u001b[38;5;28;01mraise\u001b[39;00m CineNotesException(\u001b[38;5;124mf\u001b[39m\u001b[38;5;124m\"\u001b[39m\u001b[38;5;124mFailed to query Hugging Face API\u001b[39m\u001b[38;5;130;01m\\n\u001b[39;00m\u001b[38;5;124mDetailed Exception:\u001b[39m\u001b[38;5;130;01m\\n\u001b[39;00m\u001b[38;5;132;01m{\u001b[39;00me\u001b[38;5;132;01m}\u001b[39;00m\u001b[38;5;124m\"\u001b[39m, sys)\n\u001b[1;32m    138\u001b[0m \u001b[38;5;28;01mfinally\u001b[39;00m:\n\u001b[1;32m    139\u001b[0m     \u001b[38;5;66;03m# Ensure temporary directory is cleaned up\u001b[39;00m\n\u001b[1;32m    140\u001b[0m     \u001b[38;5;28;01mif\u001b[39;00m temp_dir \u001b[38;5;129;01mand\u001b[39;00m os\u001b[38;5;241m.\u001b[39mpath\u001b[38;5;241m.\u001b[39mexists(temp_dir):\n",
      "\u001b[0;31mCineNotesException\u001b[0m: Error occurred in python script: [/Users/prakharagarwal/Documents/Python Codes/CineNotes/src/cine_notes/components/audio_transcript.py] at line number: [117] with error: [Failed to query Hugging Face API\nDetailed Exception:\nThis event loop is already running]"
     ]
    }
   ],
   "source": [
    "whisper = HuggingFaceWhisperAPI()\n",
    "audio_file = r\"/Users/prakharagarwal/Documents/Python Codes/CineNotes/my_videos/Deep Learning for Computer Vision  CampusX Deep Learning Course  DLCV/audio/parts/chunk0.mp3\"\n",
    "transcribe = whisper.query(audio_file)"
   ]
  },
  {
   "cell_type": "code",
   "execution_count": null,
   "metadata": {},
   "outputs": [],
   "source": [
    "%pip install asyncio aiohttp"
   ]
  },
  {
   "cell_type": "code",
   "execution_count": null,
   "metadata": {},
   "outputs": [],
   "source": [
    "chunks_data = []\n",
    "for chunk in chunk_list:\n",
    "    with open(chunk, 'rb') as f:\n",
    "        chunks_data.append(f.read())\n",
    "        f.close()"
   ]
  },
  {
   "cell_type": "code",
   "execution_count": null,
   "metadata": {},
   "outputs": [],
   "source": [
    "len(chunks_data)"
   ]
  },
  {
   "cell_type": "code",
   "execution_count": null,
   "metadata": {},
   "outputs": [],
   "source": [
    "import asyncio\n",
    "import aiohttp\n",
    "from dotenv import load_dotenv\n",
    "load_dotenv()\n",
    "import os\n",
    "hf_token = os.getenv(\"HUGGINGFACE_WHISPER_TOKEN\")\n",
    "\n",
    "class APIClient:\n",
    "    def __init__(self, api_url, headers):\n",
    "        self.api_url = api_url\n",
    "        self.headers = headers\n",
    "\n",
    "    async def send_request(self, session, data):\n",
    "        \"\"\"Send a POST request with the given payload.\"\"\"\n",
    "        try:\n",
    "            async with session.post(self.api_url, headers=self.headers, data=data) as response:\n",
    "                response.raise_for_status()\n",
    "                result = await response.json()\n",
    "                return {\"status\": response.status, \"data\": result}\n",
    "        except aiohttp.ClientError as e:\n",
    "            return {\"error\": str(e)}\n",
    "\n",
    "    async def execute_requests(self, payloads):\n",
    "        \"\"\"Execute multiple POST requests in parallel.\"\"\"\n",
    "        async with aiohttp.ClientSession() as session:\n",
    "            tasks = [self.send_request(session, payload) for payload in payloads]\n",
    "            return await asyncio.gather(*tasks)\n",
    "\n",
    "# Example usage\n",
    "api_url = \"https://api-inference.huggingface.co/models/openai/whisper-large-v3-turbo\"\n",
    "headers = {\"Authorization\": f\"Bearer {hf_token}\"}\n",
    "\n",
    "# Different payloads for parallel execution\n",
    "payloads = chunks_data\n",
    "\n",
    "client = APIClient(api_url, headers)\n",
    "\n",
    "async def main():\n",
    "    results = await client.execute_requests(payloads)\n",
    "    for idx, result in enumerate(results):\n",
    "        print(f\"Response {idx + 1}:\\n {result}\")\n",
    "        print(\"-\" * 50)\n",
    "\n",
    "try:\n",
    "    loop = asyncio.get_running_loop()\n",
    "    # If already in a running event loop\n",
    "    task = asyncio.create_task(main())\n",
    "    loop.run_until_complete(task)\n",
    "except RuntimeError:\n",
    "    # If no event loop is running\n",
    "    asyncio.run(main())\n"
   ]
  },
  {
   "cell_type": "code",
   "execution_count": null,
   "metadata": {},
   "outputs": [],
   "source": [
    "import json\n",
    "path = r'/Users/prakharagarwal/Documents/Python Codes/CineNotes/artifacts/2025_01_10__00_49_58/output.json'\n",
    "# Load the JSON data\n",
    "with open(path, 'r', encoding='utf-8') as infile:\n",
    "    data = json.load(infile)\n",
    "\n",
    "print(data)\n",
    "\n",
    "# Save the JSON data with UTF-8 encoding\n",
    "with open(path, 'w', encoding='utf-8') as outfile:\n",
    "    json.dump(data, outfile, ensure_ascii=False, indent=4)\n",
    "\n",
    "print(\"File saved as 'output_readable.json' with readable characters.\")"
   ]
  }
 ],
 "metadata": {
  "kernelspec": {
   "display_name": "langgraph",
   "language": "python",
   "name": "python3"
  },
  "language_info": {
   "codemirror_mode": {
    "name": "ipython",
    "version": 3
   },
   "file_extension": ".py",
   "mimetype": "text/x-python",
   "name": "python",
   "nbconvert_exporter": "python",
   "pygments_lexer": "ipython3",
   "version": "3.11.11"
  }
 },
 "nbformat": 4,
 "nbformat_minor": 2
}
