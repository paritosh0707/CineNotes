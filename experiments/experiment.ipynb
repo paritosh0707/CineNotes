{
 "cells": [
  {
   "cell_type": "code",
   "execution_count": 1,
   "metadata": {},
   "outputs": [
    {
     "name": "stdout",
     "output_type": "stream",
     "text": [
      "ok\n"
     ]
    }
   ],
   "source": [
    "print(\"ok\")"
   ]
  },
  {
   "cell_type": "markdown",
   "metadata": {},
   "source": [
    "## Download Youtube Video"
   ]
  },
  {
   "cell_type": "code",
   "execution_count": 2,
   "metadata": {},
   "outputs": [],
   "source": [
    "import os\n",
    "import subprocess\n",
    "from pytube import YouTube\n",
    "import shutil\n",
    "import sys\n",
    "from cine_notes.logger import logging\n",
    "from cine_notes.exception import CineNotesException\n",
    "\n",
    "class YouTubeVideoProcessor:\n",
    "    \"\"\"\n",
    "    A class to process YouTube videos by downloading and extracting audio/frames.\n",
    "\n",
    "    This class provides functionality to:\n",
    "    - Download YouTube videos at highest available quality\n",
    "    - Extract audio in WAV format\n",
    "    - Extract video frames as images\n",
    "    - Organize outputs in a structured directory format\n",
    "\n",
    "    Attributes:\n",
    "        youtube_url (str): URL of the YouTube video to process\n",
    "        output_base_dir (str): Base directory for all outputs\n",
    "        video_filename (str): Path to downloaded video file\n",
    "        video_dir (str): Directory containing the video\n",
    "        audio_dir (str): Directory for extracted audio\n",
    "        frames_dir (str): Directory for extracted frames\n",
    "    \"\"\"\n",
    "\n",
    "    def __init__(self, youtube_url: str, output_base_dir: str = \"./output_videos\"):\n",
    "        \"\"\"\n",
    "        Initialize the YouTubeVideoProcessor.\n",
    "\n",
    "        Args:\n",
    "            youtube_url (str): URL of the YouTube video to process\n",
    "            output_base_dir (str): Base directory for outputs (default: \"./output_videos\")\n",
    "        \"\"\"\n",
    "        try:\n",
    "            self.youtube_url = youtube_url\n",
    "            self.output_base_dir = os.path.abspath(output_base_dir)\n",
    "            os.makedirs(self.output_base_dir, exist_ok=True)\n",
    "            logging.info(f\"Initialized YouTubeVideoProcessor with output directory: {self.output_base_dir}\")\n",
    "            \n",
    "            # Initialize placeholder paths\n",
    "            self.video_filename = None\n",
    "            self.video_dir = None\n",
    "            self.audio_dir = None\n",
    "            self.frames_dir = None\n",
    "        except Exception as e:\n",
    "            raise CineNotesException(\"Failed to initialize YouTubeVideoProcessor\", sys)\n",
    "\n",
    "    def download_video(self) -> str:\n",
    "        \"\"\"\n",
    "        Download the YouTube video at highest available quality.\n",
    "\n",
    "        Returns:\n",
    "            str: Path to the downloaded video file\n",
    "\n",
    "        Raises:\n",
    "            CineNotesException: If video download or directory creation fails\n",
    "        \"\"\"\n",
    "        try:\n",
    "            logging.info(f\"Starting video download from: {self.youtube_url}\")\n",
    "            yt = YouTube(self.youtube_url)\n",
    "            # stream = yt.streams.filter(progressive=True, file_extension='mp4').order_by('resolution').desc().first()\n",
    "            stream = yt.streams.get_highest_resolution()\n",
    "            \n",
    "            video_title = self._sanitize_filename(yt.title)\n",
    "            self.video_dir = os.path.join(self.output_base_dir, video_title)\n",
    "            os.makedirs(self.video_dir, exist_ok=True)\n",
    "            \n",
    "            self.video_filename = stream.download(output_path=self.video_dir, filename=\"video.mp4\")\n",
    "            logging.info(f\"Video downloaded successfully to: {self.video_filename}\")\n",
    "            \n",
    "            self.audio_dir = os.path.join(self.video_dir, \"audio\")\n",
    "            self.frames_dir = os.path.join(self.video_dir, \"frames\")\n",
    "            os.makedirs(self.audio_dir, exist_ok=True)\n",
    "            os.makedirs(self.frames_dir, exist_ok=True)\n",
    "\n",
    "            return self.video_filename\n",
    "        except Exception as e:\n",
    "            raise CineNotesException(\"Failed to download video\", sys)\n",
    "\n",
    "    def extract_audio(self, audio_filename=\"audio.wav\"):\n",
    "        \"\"\"\n",
    "        Extract audio from the downloaded video using ffmpeg.\n",
    "\n",
    "        Args:\n",
    "            audio_filename (str): Name for the output audio file (default: \"audio.wav\")\n",
    "\n",
    "        Returns:\n",
    "            str: Path to the extracted audio file\n",
    "\n",
    "        Raises:\n",
    "            ValueError: If no video has been downloaded\n",
    "            CineNotesException: If audio extraction fails\n",
    "        \"\"\"\n",
    "        try:\n",
    "            if not self.video_filename:\n",
    "                raise ValueError(\"No video has been downloaded. Call download_video() first.\")\n",
    "\n",
    "            audio_path = os.path.join(self.audio_dir, audio_filename)\n",
    "            logging.info(f\"Extracting audio to: {audio_path}\")\n",
    "            \n",
    "            cmd = [\n",
    "                \"ffmpeg\",\n",
    "                \"-i\", self.video_filename,\n",
    "                \"-vn\",\n",
    "                \"-acodec\", \"pcm_s16le\",\n",
    "                \"-ar\", \"44100\",\n",
    "                \"-ac\", \"2\",\n",
    "                audio_path,\n",
    "                \"-y\"\n",
    "            ]\n",
    "            \n",
    "            subprocess.run(cmd, check=True)\n",
    "            logging.info(\"Audio extraction completed successfully\")\n",
    "            return audio_path\n",
    "        except ValueError as ve:\n",
    "            raise ve\n",
    "        except Exception as e:\n",
    "            raise CineNotesException(\"Failed to extract audio\", sys)\n",
    "\n",
    "    def extract_frames(self, image_prefix=\"frame_\", image_format=\"jpg\"):\n",
    "        \"\"\"\n",
    "        Extract frames from the video using ffmpeg.\n",
    "\n",
    "        Args:\n",
    "            image_prefix (str): Prefix for frame filenames (default: \"frame_\")\n",
    "            image_format (str): Format for frame images (default: \"jpg\")\n",
    "\n",
    "        Returns:\n",
    "            str: Path to the directory containing extracted frames\n",
    "\n",
    "        Raises:\n",
    "            ValueError: If no video has been downloaded\n",
    "            CineNotesException: If frame extraction fails\n",
    "        \"\"\"\n",
    "        try:\n",
    "            if not self.video_filename:\n",
    "                raise ValueError(\"No video has been downloaded. Call download_video() first.\")\n",
    "            \n",
    "            logging.info(f\"Extracting frames to: {self.frames_dir}\")\n",
    "            frame_pattern = os.path.join(self.frames_dir, f\"{image_prefix}%05d.{image_format}\")\n",
    "            \n",
    "            cmd = [\n",
    "                \"ffmpeg\",\n",
    "                \"-i\", self.video_filename,\n",
    "                frame_pattern,\n",
    "                \"-y\"\n",
    "            ]\n",
    "            \n",
    "            subprocess.run(cmd, check=True)\n",
    "            logging.info(\"Frame extraction completed successfully\")\n",
    "            return self.frames_dir\n",
    "        except ValueError as ve:\n",
    "            raise ve\n",
    "        except Exception as e:\n",
    "            raise CineNotesException(\"Failed to extract frames\", sys)\n",
    "\n",
    "    @staticmethod\n",
    "    def _sanitize_filename(name: str) -> str:\n",
    "        \"\"\"\n",
    "        Sanitize filename by removing/escaping invalid filename characters.\n",
    "\n",
    "        Args:\n",
    "            name (str): Original filename\n",
    "\n",
    "        Returns:\n",
    "            str: Sanitized filename\n",
    "        \"\"\"\n",
    "        return \"\".join(c for c in name if c.isalnum() or c in (' ', '.', '_', '-')).strip()\n",
    "\n"
   ]
  },
  {
   "cell_type": "code",
   "execution_count": 3,
   "metadata": {},
   "outputs": [
    {
     "ename": "CineNotesException",
     "evalue": "Error occurred in python script: [C:\\Users\\Admin\\AppData\\Local\\Temp\\ipykernel_19424\\1469822310.py] at line number: [64] with error: [Failed to download video]",
     "output_type": "error",
     "traceback": [
      "\u001b[1;31m---------------------------------------------------------------------------\u001b[0m",
      "\u001b[1;31mHTTPError\u001b[0m                                 Traceback (most recent call last)",
      "Cell \u001b[1;32mIn[2], line 64\u001b[0m, in \u001b[0;36mYouTubeVideoProcessor.download_video\u001b[1;34m(self)\u001b[0m\n\u001b[0;32m     63\u001b[0m \u001b[38;5;66;03m# stream = yt.streams.filter(progressive=True, file_extension='mp4').order_by('resolution').desc().first()\u001b[39;00m\n\u001b[1;32m---> 64\u001b[0m stream \u001b[38;5;241m=\u001b[39m \u001b[43myt\u001b[49m\u001b[38;5;241;43m.\u001b[39;49m\u001b[43mstreams\u001b[49m\u001b[38;5;241m.\u001b[39mget_highest_resolution()\n\u001b[0;32m     66\u001b[0m video_title \u001b[38;5;241m=\u001b[39m \u001b[38;5;28mself\u001b[39m\u001b[38;5;241m.\u001b[39m_sanitize_filename(yt\u001b[38;5;241m.\u001b[39mtitle)\n",
      "File \u001b[1;32mc:\\Users\\Admin\\Documents\\Data_Science\\GenerativeAI\\Repositories\\CineNotes\\venv\\lib\\site-packages\\pytube\\__main__.py:296\u001b[0m, in \u001b[0;36mYouTube.streams\u001b[1;34m(self)\u001b[0m\n\u001b[0;32m    295\u001b[0m \u001b[38;5;28mself\u001b[39m\u001b[38;5;241m.\u001b[39mcheck_availability()\n\u001b[1;32m--> 296\u001b[0m \u001b[38;5;28;01mreturn\u001b[39;00m StreamQuery(\u001b[38;5;28;43mself\u001b[39;49m\u001b[38;5;241;43m.\u001b[39;49m\u001b[43mfmt_streams\u001b[49m)\n",
      "File \u001b[1;32mc:\\Users\\Admin\\Documents\\Data_Science\\GenerativeAI\\Repositories\\CineNotes\\venv\\lib\\site-packages\\pytube\\__main__.py:176\u001b[0m, in \u001b[0;36mYouTube.fmt_streams\u001b[1;34m(self)\u001b[0m\n\u001b[0;32m    174\u001b[0m \u001b[38;5;28mself\u001b[39m\u001b[38;5;241m.\u001b[39m_fmt_streams \u001b[38;5;241m=\u001b[39m []\n\u001b[1;32m--> 176\u001b[0m stream_manifest \u001b[38;5;241m=\u001b[39m extract\u001b[38;5;241m.\u001b[39mapply_descrambler(\u001b[38;5;28;43mself\u001b[39;49m\u001b[38;5;241;43m.\u001b[39;49m\u001b[43mstreaming_data\u001b[49m)\n\u001b[0;32m    178\u001b[0m \u001b[38;5;66;03m# If the cached js doesn't work, try fetching a new js file\u001b[39;00m\n\u001b[0;32m    179\u001b[0m \u001b[38;5;66;03m# https://github.com/pytube/pytube/issues/1054\u001b[39;00m\n",
      "File \u001b[1;32mc:\\Users\\Admin\\Documents\\Data_Science\\GenerativeAI\\Repositories\\CineNotes\\venv\\lib\\site-packages\\pytube\\__main__.py:160\u001b[0m, in \u001b[0;36mYouTube.streaming_data\u001b[1;34m(self)\u001b[0m\n\u001b[0;32m    159\u001b[0m \u001b[38;5;28;01melse\u001b[39;00m:\n\u001b[1;32m--> 160\u001b[0m     \u001b[38;5;28;43mself\u001b[39;49m\u001b[38;5;241;43m.\u001b[39;49m\u001b[43mbypass_age_gate\u001b[49m\u001b[43m(\u001b[49m\u001b[43m)\u001b[49m\n\u001b[0;32m    161\u001b[0m     \u001b[38;5;28;01mreturn\u001b[39;00m \u001b[38;5;28mself\u001b[39m\u001b[38;5;241m.\u001b[39mvid_info[\u001b[38;5;124m'\u001b[39m\u001b[38;5;124mstreamingData\u001b[39m\u001b[38;5;124m'\u001b[39m]\n",
      "File \u001b[1;32mc:\\Users\\Admin\\Documents\\Data_Science\\GenerativeAI\\Repositories\\CineNotes\\venv\\lib\\site-packages\\pytube\\__main__.py:257\u001b[0m, in \u001b[0;36mYouTube.bypass_age_gate\u001b[1;34m(self)\u001b[0m\n\u001b[0;32m    252\u001b[0m innertube \u001b[38;5;241m=\u001b[39m InnerTube(\n\u001b[0;32m    253\u001b[0m     client\u001b[38;5;241m=\u001b[39m\u001b[38;5;124m'\u001b[39m\u001b[38;5;124mANDROID_EMBED\u001b[39m\u001b[38;5;124m'\u001b[39m,\n\u001b[0;32m    254\u001b[0m     use_oauth\u001b[38;5;241m=\u001b[39m\u001b[38;5;28mself\u001b[39m\u001b[38;5;241m.\u001b[39muse_oauth,\n\u001b[0;32m    255\u001b[0m     allow_cache\u001b[38;5;241m=\u001b[39m\u001b[38;5;28mself\u001b[39m\u001b[38;5;241m.\u001b[39mallow_oauth_cache\n\u001b[0;32m    256\u001b[0m )\n\u001b[1;32m--> 257\u001b[0m innertube_response \u001b[38;5;241m=\u001b[39m \u001b[43minnertube\u001b[49m\u001b[38;5;241;43m.\u001b[39;49m\u001b[43mplayer\u001b[49m\u001b[43m(\u001b[49m\u001b[38;5;28;43mself\u001b[39;49m\u001b[38;5;241;43m.\u001b[39;49m\u001b[43mvideo_id\u001b[49m\u001b[43m)\u001b[49m\n\u001b[0;32m    259\u001b[0m playability_status \u001b[38;5;241m=\u001b[39m innertube_response[\u001b[38;5;124m'\u001b[39m\u001b[38;5;124mplayabilityStatus\u001b[39m\u001b[38;5;124m'\u001b[39m]\u001b[38;5;241m.\u001b[39mget(\u001b[38;5;124m'\u001b[39m\u001b[38;5;124mstatus\u001b[39m\u001b[38;5;124m'\u001b[39m, \u001b[38;5;28;01mNone\u001b[39;00m)\n",
      "File \u001b[1;32mc:\\Users\\Admin\\Documents\\Data_Science\\GenerativeAI\\Repositories\\CineNotes\\venv\\lib\\site-packages\\pytube\\innertube.py:448\u001b[0m, in \u001b[0;36mInnerTube.player\u001b[1;34m(self, video_id)\u001b[0m\n\u001b[0;32m    447\u001b[0m query\u001b[38;5;241m.\u001b[39mupdate(\u001b[38;5;28mself\u001b[39m\u001b[38;5;241m.\u001b[39mbase_params)\n\u001b[1;32m--> 448\u001b[0m \u001b[38;5;28;01mreturn\u001b[39;00m \u001b[38;5;28;43mself\u001b[39;49m\u001b[38;5;241;43m.\u001b[39;49m\u001b[43m_call_api\u001b[49m\u001b[43m(\u001b[49m\u001b[43mendpoint\u001b[49m\u001b[43m,\u001b[49m\u001b[43m \u001b[49m\u001b[43mquery\u001b[49m\u001b[43m,\u001b[49m\u001b[43m \u001b[49m\u001b[38;5;28;43mself\u001b[39;49m\u001b[38;5;241;43m.\u001b[39;49m\u001b[43mbase_data\u001b[49m\u001b[43m)\u001b[49m\n",
      "File \u001b[1;32mc:\\Users\\Admin\\Documents\\Data_Science\\GenerativeAI\\Repositories\\CineNotes\\venv\\lib\\site-packages\\pytube\\innertube.py:390\u001b[0m, in \u001b[0;36mInnerTube._call_api\u001b[1;34m(self, endpoint, query, data)\u001b[0m\n\u001b[0;32m    388\u001b[0m headers\u001b[38;5;241m.\u001b[39mupdate(\u001b[38;5;28mself\u001b[39m\u001b[38;5;241m.\u001b[39mheader)\n\u001b[1;32m--> 390\u001b[0m response \u001b[38;5;241m=\u001b[39m \u001b[43mrequest\u001b[49m\u001b[38;5;241;43m.\u001b[39;49m\u001b[43m_execute_request\u001b[49m\u001b[43m(\u001b[49m\n\u001b[0;32m    391\u001b[0m \u001b[43m    \u001b[49m\u001b[43mendpoint_url\u001b[49m\u001b[43m,\u001b[49m\n\u001b[0;32m    392\u001b[0m \u001b[43m    \u001b[49m\u001b[38;5;124;43m'\u001b[39;49m\u001b[38;5;124;43mPOST\u001b[39;49m\u001b[38;5;124;43m'\u001b[39;49m\u001b[43m,\u001b[49m\n\u001b[0;32m    393\u001b[0m \u001b[43m    \u001b[49m\u001b[43mheaders\u001b[49m\u001b[38;5;241;43m=\u001b[39;49m\u001b[43mheaders\u001b[49m\u001b[43m,\u001b[49m\n\u001b[0;32m    394\u001b[0m \u001b[43m    \u001b[49m\u001b[43mdata\u001b[49m\u001b[38;5;241;43m=\u001b[39;49m\u001b[43mdata\u001b[49m\n\u001b[0;32m    395\u001b[0m \u001b[43m\u001b[49m\u001b[43m)\u001b[49m\n\u001b[0;32m    396\u001b[0m \u001b[38;5;28;01mreturn\u001b[39;00m json\u001b[38;5;241m.\u001b[39mloads(response\u001b[38;5;241m.\u001b[39mread())\n",
      "File \u001b[1;32mc:\\Users\\Admin\\Documents\\Data_Science\\GenerativeAI\\Repositories\\CineNotes\\venv\\lib\\site-packages\\pytube\\request.py:37\u001b[0m, in \u001b[0;36m_execute_request\u001b[1;34m(url, method, headers, data, timeout)\u001b[0m\n\u001b[0;32m     36\u001b[0m     \u001b[38;5;28;01mraise\u001b[39;00m \u001b[38;5;167;01mValueError\u001b[39;00m(\u001b[38;5;124m\"\u001b[39m\u001b[38;5;124mInvalid URL\u001b[39m\u001b[38;5;124m\"\u001b[39m)\n\u001b[1;32m---> 37\u001b[0m \u001b[38;5;28;01mreturn\u001b[39;00m \u001b[43murlopen\u001b[49m\u001b[43m(\u001b[49m\u001b[43mrequest\u001b[49m\u001b[43m,\u001b[49m\u001b[43m \u001b[49m\u001b[43mtimeout\u001b[49m\u001b[38;5;241;43m=\u001b[39;49m\u001b[43mtimeout\u001b[49m\u001b[43m)\u001b[49m\n",
      "File \u001b[1;32mc:\\Users\\Admin\\Documents\\Data_Science\\GenerativeAI\\Repositories\\CineNotes\\venv\\lib\\urllib\\request.py:216\u001b[0m, in \u001b[0;36murlopen\u001b[1;34m(url, data, timeout, cafile, capath, cadefault, context)\u001b[0m\n\u001b[0;32m    215\u001b[0m     opener \u001b[38;5;241m=\u001b[39m _opener\n\u001b[1;32m--> 216\u001b[0m \u001b[38;5;28;01mreturn\u001b[39;00m \u001b[43mopener\u001b[49m\u001b[38;5;241;43m.\u001b[39;49m\u001b[43mopen\u001b[49m\u001b[43m(\u001b[49m\u001b[43murl\u001b[49m\u001b[43m,\u001b[49m\u001b[43m \u001b[49m\u001b[43mdata\u001b[49m\u001b[43m,\u001b[49m\u001b[43m \u001b[49m\u001b[43mtimeout\u001b[49m\u001b[43m)\u001b[49m\n",
      "File \u001b[1;32mc:\\Users\\Admin\\Documents\\Data_Science\\GenerativeAI\\Repositories\\CineNotes\\venv\\lib\\urllib\\request.py:525\u001b[0m, in \u001b[0;36mOpenerDirector.open\u001b[1;34m(self, fullurl, data, timeout)\u001b[0m\n\u001b[0;32m    524\u001b[0m     meth \u001b[38;5;241m=\u001b[39m \u001b[38;5;28mgetattr\u001b[39m(processor, meth_name)\n\u001b[1;32m--> 525\u001b[0m     response \u001b[38;5;241m=\u001b[39m \u001b[43mmeth\u001b[49m\u001b[43m(\u001b[49m\u001b[43mreq\u001b[49m\u001b[43m,\u001b[49m\u001b[43m \u001b[49m\u001b[43mresponse\u001b[49m\u001b[43m)\u001b[49m\n\u001b[0;32m    527\u001b[0m \u001b[38;5;28;01mreturn\u001b[39;00m response\n",
      "File \u001b[1;32mc:\\Users\\Admin\\Documents\\Data_Science\\GenerativeAI\\Repositories\\CineNotes\\venv\\lib\\urllib\\request.py:634\u001b[0m, in \u001b[0;36mHTTPErrorProcessor.http_response\u001b[1;34m(self, request, response)\u001b[0m\n\u001b[0;32m    633\u001b[0m \u001b[38;5;28;01mif\u001b[39;00m \u001b[38;5;129;01mnot\u001b[39;00m (\u001b[38;5;241m200\u001b[39m \u001b[38;5;241m<\u001b[39m\u001b[38;5;241m=\u001b[39m code \u001b[38;5;241m<\u001b[39m \u001b[38;5;241m300\u001b[39m):\n\u001b[1;32m--> 634\u001b[0m     response \u001b[38;5;241m=\u001b[39m \u001b[38;5;28;43mself\u001b[39;49m\u001b[38;5;241;43m.\u001b[39;49m\u001b[43mparent\u001b[49m\u001b[38;5;241;43m.\u001b[39;49m\u001b[43merror\u001b[49m\u001b[43m(\u001b[49m\n\u001b[0;32m    635\u001b[0m \u001b[43m        \u001b[49m\u001b[38;5;124;43m'\u001b[39;49m\u001b[38;5;124;43mhttp\u001b[39;49m\u001b[38;5;124;43m'\u001b[39;49m\u001b[43m,\u001b[49m\u001b[43m \u001b[49m\u001b[43mrequest\u001b[49m\u001b[43m,\u001b[49m\u001b[43m \u001b[49m\u001b[43mresponse\u001b[49m\u001b[43m,\u001b[49m\u001b[43m \u001b[49m\u001b[43mcode\u001b[49m\u001b[43m,\u001b[49m\u001b[43m \u001b[49m\u001b[43mmsg\u001b[49m\u001b[43m,\u001b[49m\u001b[43m \u001b[49m\u001b[43mhdrs\u001b[49m\u001b[43m)\u001b[49m\n\u001b[0;32m    637\u001b[0m \u001b[38;5;28;01mreturn\u001b[39;00m response\n",
      "File \u001b[1;32mc:\\Users\\Admin\\Documents\\Data_Science\\GenerativeAI\\Repositories\\CineNotes\\venv\\lib\\urllib\\request.py:563\u001b[0m, in \u001b[0;36mOpenerDirector.error\u001b[1;34m(self, proto, *args)\u001b[0m\n\u001b[0;32m    562\u001b[0m args \u001b[38;5;241m=\u001b[39m (\u001b[38;5;28mdict\u001b[39m, \u001b[38;5;124m'\u001b[39m\u001b[38;5;124mdefault\u001b[39m\u001b[38;5;124m'\u001b[39m, \u001b[38;5;124m'\u001b[39m\u001b[38;5;124mhttp_error_default\u001b[39m\u001b[38;5;124m'\u001b[39m) \u001b[38;5;241m+\u001b[39m orig_args\n\u001b[1;32m--> 563\u001b[0m \u001b[38;5;28;01mreturn\u001b[39;00m \u001b[38;5;28;43mself\u001b[39;49m\u001b[38;5;241;43m.\u001b[39;49m\u001b[43m_call_chain\u001b[49m\u001b[43m(\u001b[49m\u001b[38;5;241;43m*\u001b[39;49m\u001b[43margs\u001b[49m\u001b[43m)\u001b[49m\n",
      "File \u001b[1;32mc:\\Users\\Admin\\Documents\\Data_Science\\GenerativeAI\\Repositories\\CineNotes\\venv\\lib\\urllib\\request.py:496\u001b[0m, in \u001b[0;36mOpenerDirector._call_chain\u001b[1;34m(self, chain, kind, meth_name, *args)\u001b[0m\n\u001b[0;32m    495\u001b[0m func \u001b[38;5;241m=\u001b[39m \u001b[38;5;28mgetattr\u001b[39m(handler, meth_name)\n\u001b[1;32m--> 496\u001b[0m result \u001b[38;5;241m=\u001b[39m \u001b[43mfunc\u001b[49m\u001b[43m(\u001b[49m\u001b[38;5;241;43m*\u001b[39;49m\u001b[43margs\u001b[49m\u001b[43m)\u001b[49m\n\u001b[0;32m    497\u001b[0m \u001b[38;5;28;01mif\u001b[39;00m result \u001b[38;5;129;01mis\u001b[39;00m \u001b[38;5;129;01mnot\u001b[39;00m \u001b[38;5;28;01mNone\u001b[39;00m:\n",
      "File \u001b[1;32mc:\\Users\\Admin\\Documents\\Data_Science\\GenerativeAI\\Repositories\\CineNotes\\venv\\lib\\urllib\\request.py:643\u001b[0m, in \u001b[0;36mHTTPDefaultErrorHandler.http_error_default\u001b[1;34m(self, req, fp, code, msg, hdrs)\u001b[0m\n\u001b[0;32m    642\u001b[0m \u001b[38;5;28;01mdef\u001b[39;00m \u001b[38;5;21mhttp_error_default\u001b[39m(\u001b[38;5;28mself\u001b[39m, req, fp, code, msg, hdrs):\n\u001b[1;32m--> 643\u001b[0m     \u001b[38;5;28;01mraise\u001b[39;00m HTTPError(req\u001b[38;5;241m.\u001b[39mfull_url, code, msg, hdrs, fp)\n",
      "\u001b[1;31mHTTPError\u001b[0m: HTTP Error 403: Forbidden",
      "\nDuring handling of the above exception, another exception occurred:\n",
      "\u001b[1;31mCineNotesException\u001b[0m                        Traceback (most recent call last)",
      "Cell \u001b[1;32mIn[3], line 3\u001b[0m\n\u001b[0;32m      1\u001b[0m youtube_url \u001b[38;5;241m=\u001b[39m \u001b[38;5;124m\"\u001b[39m\u001b[38;5;124mhttps://www.youtube.com/watch?v=qhomKbL-mHw\u001b[39m\u001b[38;5;124m\"\u001b[39m\n\u001b[0;32m      2\u001b[0m processor \u001b[38;5;241m=\u001b[39m YouTubeVideoProcessor(youtube_url, output_base_dir\u001b[38;5;241m=\u001b[39m\u001b[38;5;124m\"\u001b[39m\u001b[38;5;124m./my_videos\u001b[39m\u001b[38;5;124m\"\u001b[39m)\n\u001b[1;32m----> 3\u001b[0m \u001b[43mprocessor\u001b[49m\u001b[38;5;241;43m.\u001b[39;49m\u001b[43mdownload_video\u001b[49m\u001b[43m(\u001b[49m\u001b[43m)\u001b[49m\n\u001b[0;32m      4\u001b[0m \u001b[38;5;66;03m# processor.extract_audio()\u001b[39;00m\n\u001b[0;32m      5\u001b[0m \u001b[38;5;66;03m# processor.extract_frames()\u001b[39;00m\n\u001b[0;32m      6\u001b[0m \u001b[38;5;28mprint\u001b[39m(\u001b[38;5;124m\"\u001b[39m\u001b[38;5;124mVideo processing complete!\u001b[39m\u001b[38;5;124m\"\u001b[39m)\n",
      "Cell \u001b[1;32mIn[2], line 80\u001b[0m, in \u001b[0;36mYouTubeVideoProcessor.download_video\u001b[1;34m(self)\u001b[0m\n\u001b[0;32m     78\u001b[0m     \u001b[38;5;28;01mreturn\u001b[39;00m \u001b[38;5;28mself\u001b[39m\u001b[38;5;241m.\u001b[39mvideo_filename\n\u001b[0;32m     79\u001b[0m \u001b[38;5;28;01mexcept\u001b[39;00m \u001b[38;5;167;01mException\u001b[39;00m \u001b[38;5;28;01mas\u001b[39;00m e:\n\u001b[1;32m---> 80\u001b[0m     \u001b[38;5;28;01mraise\u001b[39;00m CineNotesException(\u001b[38;5;124m\"\u001b[39m\u001b[38;5;124mFailed to download video\u001b[39m\u001b[38;5;124m\"\u001b[39m, sys)\n",
      "\u001b[1;31mCineNotesException\u001b[0m: Error occurred in python script: [C:\\Users\\Admin\\AppData\\Local\\Temp\\ipykernel_19424\\1469822310.py] at line number: [64] with error: [Failed to download video]"
     ]
    }
   ],
   "source": [
    "youtube_url = \"https://www.youtube.com/watch?v=qhomKbL-mHw\"\n",
    "processor = YouTubeVideoProcessor(youtube_url, output_base_dir=\"./my_videos\")\n",
    "processor.download_video()\n",
    "# processor.extract_audio()\n",
    "# processor.extract_frames()\n",
    "print(\"Video processing complete!\")"
   ]
  },
  {
   "cell_type": "code",
   "execution_count": 4,
   "metadata": {},
   "outputs": [
    {
     "name": "stdout",
     "output_type": "stream",
     "text": [
      "Collecting yt-dlp\n",
      "  Downloading yt_dlp-2024.12.13-py3-none-any.whl (3.2 MB)\n",
      "     ---------------------------------------- 3.2/3.2 MB 11.9 MB/s eta 0:00:00\n",
      "Installing collected packages: yt-dlp\n",
      "Successfully installed yt-dlp-2024.12.13\n"
     ]
    },
    {
     "name": "stderr",
     "output_type": "stream",
     "text": [
      "\n",
      "[notice] A new release of pip available: 22.3.1 -> 24.3.1\n",
      "[notice] To update, run: python.exe -m pip install --upgrade pip\n"
     ]
    }
   ],
   "source": [
    "! pip install yt-dlp"
   ]
  },
  {
   "cell_type": "code",
   "execution_count": 5,
   "metadata": {},
   "outputs": [
    {
     "data": {
      "text/plain": [
       "CompletedProcess(args=['yt-dlp', '-f', 'mp4', '-o', './my_videos/video.mp4', 'https://www.youtube.com/watch?v=qhomKbL-mHw'], returncode=0)"
      ]
     },
     "execution_count": 5,
     "metadata": {},
     "output_type": "execute_result"
    }
   ],
   "source": [
    "import subprocess\n",
    "\n",
    "youtube_url = \"https://www.youtube.com/watch?v=qhomKbL-mHw\"\n",
    "output_path = \"./my_videos/video.mp4\"\n",
    "subprocess.run([\"yt-dlp\", \"-f\", \"mp4\", \"-o\", output_path, youtube_url], check=True)\n"
   ]
  },
  {
   "cell_type": "code",
   "execution_count": 2,
   "metadata": {},
   "outputs": [
    {
     "name": "stdout",
     "output_type": "stream",
     "text": [
      "Collecting moviepy\n",
      "  Using cached moviepy-2.1.1-py3-none-any.whl (123 kB)\n",
      "Requirement already satisfied: pillow<11.0,>=9.2.0 in c:\\python310\\lib\\site-packages (from moviepy) (10.2.0)\n",
      "Requirement already satisfied: decorator<6.0,>=4.0.2 in c:\\users\\admin\\appdata\\roaming\\python\\python310\\site-packages (from moviepy) (5.1.1)\n",
      "Collecting imageio<3.0,>=2.5\n",
      "  Using cached imageio-2.36.1-py3-none-any.whl (315 kB)\n",
      "Requirement already satisfied: python-dotenv>=0.10 in c:\\python310\\lib\\site-packages (from moviepy) (1.0.1)\n",
      "Requirement already satisfied: numpy>=1.25.0 in c:\\python310\\lib\\site-packages (from moviepy) (2.2.1)\n",
      "Collecting proglog<=1.0.0\n",
      "  Using cached proglog-0.1.10-py3-none-any.whl (6.1 kB)\n",
      "Collecting imageio_ffmpeg>=0.2.0\n",
      "  Using cached imageio_ffmpeg-0.5.1-py3-none-win_amd64.whl (22.6 MB)\n",
      "Requirement already satisfied: setuptools in c:\\python310\\lib\\site-packages (from imageio_ffmpeg>=0.2.0->moviepy) (58.1.0)\n",
      "Requirement already satisfied: tqdm in c:\\python310\\lib\\site-packages (from proglog<=1.0.0->moviepy) (4.65.0)\n",
      "Requirement already satisfied: colorama in c:\\users\\admin\\appdata\\roaming\\python\\python310\\site-packages (from tqdm->proglog<=1.0.0->moviepy) (0.4.4)\n",
      "Installing collected packages: imageio_ffmpeg, imageio, proglog, moviepy\n"
     ]
    },
    {
     "name": "stderr",
     "output_type": "stream",
     "text": [
      "  WARNING: Failed to write executable - trying to use .deleteme logic\n",
      "ERROR: Could not install packages due to an OSError: [WinError 2] The system cannot find the file specified: 'C:\\\\Python310\\\\Scripts\\\\imageio_download_bin.exe' -> 'C:\\\\Python310\\\\Scripts\\\\imageio_download_bin.exe.deleteme'\n",
      "\n",
      "\n",
      "[notice] A new release of pip available: 22.3.1 -> 24.3.1\n",
      "[notice] To update, run: C:\\Python310\\python.exe -m pip install --upgrade pip\n"
     ]
    }
   ],
   "source": [
    "!pip install moviepy"
   ]
  },
  {
   "cell_type": "code",
   "execution_count": null,
   "metadata": {},
   "outputs": [],
   "source": [
    "try:\n",
    "    from moviepy.editor import VideoFileClip\n",
    "    print(\"MoviePy imported successfully!\")\n",
    "except ImportError as e:\n",
    "    print(f\"ImportError: {e}\")\n"
   ]
  },
  {
   "cell_type": "code",
   "execution_count": 3,
   "metadata": {},
   "outputs": [
    {
     "name": "stdout",
     "output_type": "stream",
     "text": [
      "^C\n"
     ]
    }
   ],
   "source": [
    "!python"
   ]
  },
  {
   "cell_type": "code",
   "execution_count": 4,
   "metadata": {},
   "outputs": [
    {
     "name": "stderr",
     "output_type": "stream",
     "text": [
      "'ffmpeg' is not recognized as an internal or external command,\n",
      "operable program or batch file.\n"
     ]
    }
   ],
   "source": [
    "!ffmpeg -version\n"
   ]
  },
  {
   "cell_type": "code",
   "execution_count": 5,
   "metadata": {},
   "outputs": [
    {
     "name": "stderr",
     "output_type": "stream",
     "text": [
      "WARNING: Package(s) not found: ffmpeg\n"
     ]
    }
   ],
   "source": [
    "!pip show ffmpeg"
   ]
  },
  {
   "cell_type": "code",
   "execution_count": 6,
   "metadata": {},
   "outputs": [
    {
     "name": "stdout",
     "output_type": "stream",
     "text": [
      "FFmpeg is installed at: c:\\Users\\Admin\\Documents\\Data_Science\\GenerativeAI\\Repositories\\CineNotes\\venv\\lib\\site-packages\\imageio_ffmpeg\\binaries\\ffmpeg-win64-v4.2.2.exe\n"
     ]
    }
   ],
   "source": [
    "from imageio_ffmpeg import get_ffmpeg_exe\n",
    "\n",
    "# Get the path to the FFmpeg executable\n",
    "ffmpeg_path = get_ffmpeg_exe()\n",
    "\n",
    "print(f\"FFmpeg is installed at: {ffmpeg_path}\")\n"
   ]
  },
  {
   "cell_type": "code",
   "execution_count": 9,
   "metadata": {},
   "outputs": [
    {
     "name": "stdout",
     "output_type": "stream",
     "text": [
      "MoviePy and FFmpeg are working!\n"
     ]
    }
   ],
   "source": [
    "# from moviepy.editor import VideoFileClip\n",
    "from moviepy.video.io.VideoFileClip import VideoFileClip\n",
    "# Test MoviePy with FFmpeg\n",
    "print(\"MoviePy and FFmpeg are working!\")\n"
   ]
  },
  {
   "cell_type": "code",
   "execution_count": null,
   "metadata": {},
   "outputs": [],
   "source": []
  }
 ],
 "metadata": {
  "kernelspec": {
   "display_name": "venv",
   "language": "python",
   "name": "python3"
  },
  "language_info": {
   "codemirror_mode": {
    "name": "ipython",
    "version": 3
   },
   "file_extension": ".py",
   "mimetype": "text/x-python",
   "name": "python",
   "nbconvert_exporter": "python",
   "pygments_lexer": "ipython3",
   "version": "3.10.16"
  }
 },
 "nbformat": 4,
 "nbformat_minor": 2
}
